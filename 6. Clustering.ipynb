{
 "cells": [
  {
   "cell_type": "markdown",
   "metadata": {},
   "source": [
    "---\n",
    "# Clustering\n",
    "---"
   ]
  },
  {
   "cell_type": "markdown",
   "metadata": {},
   "source": [
    "## Project-Segmenting customers into clusters "
   ]
  },
  {
   "cell_type": "markdown",
   "metadata": {},
   "source": [
    "### Perform Customer Segmentation on the transactional data to build an efficient marketing model. This is a transactional data set that contains all the transactions occurring between 01/12/2010 and 09/12/2011 for a registered non-store online retail."
   ]
  },
  {
   "cell_type": "markdown",
   "metadata": {},
   "source": [
    "### Invoice No: Invoice number. Nominal, a 6-digit integral number uniquely assigned to each transaction. If this code starts with the letter 'c', it indicates a cancellation."
   ]
  },
  {
   "cell_type": "markdown",
   "metadata": {},
   "source": [
    "### StockCode: Product (item) code. Nominal, a 5-digit integral number uniquely assigned to each distinct product."
   ]
  },
  {
   "cell_type": "markdown",
   "metadata": {},
   "source": [
    "### Description: Product (item) name. Nominal."
   ]
  },
  {
   "cell_type": "markdown",
   "metadata": {},
   "source": [
    "### Quantity: The quantities of each product (item) per transaction. Numeric."
   ]
  },
  {
   "cell_type": "markdown",
   "metadata": {},
   "source": [
    "### Invoice Date: Invoice Date and time. Numeric, the day and time when each transaction was generated."
   ]
  },
  {
   "cell_type": "markdown",
   "metadata": {},
   "source": [
    "### UnitPrice: Unit price. Numeric, Product price per unit in sterling."
   ]
  },
  {
   "cell_type": "markdown",
   "metadata": {},
   "source": [
    "### CustomerID: Customer number. Nominal, a 5-digit integral number uniquely assigned to each customer."
   ]
  },
  {
   "cell_type": "markdown",
   "metadata": {},
   "source": [
    "### Country: Country name. Nominal, the name of the country where each customer resides"
   ]
  },
  {
   "cell_type": "code",
   "execution_count": 1,
   "metadata": {},
   "outputs": [],
   "source": [
    "#Importing Libraries\n",
    "import numpy as np\n",
    "import pandas as pd\n",
    "import matplotlib.pyplot as plt\n",
    "%matplotlib inline\n",
    "import seaborn as sns\n",
    "import warnings\n",
    "warnings.filterwarnings('ignore')\n",
    "from sklearn.cluster import KMeans"
   ]
  },
  {
   "cell_type": "markdown",
   "metadata": {},
   "source": [
    "### Loading the dataset"
   ]
  },
  {
   "cell_type": "code",
   "execution_count": 2,
   "metadata": {},
   "outputs": [],
   "source": [
    "#Reading the dataset\n",
    "data=pd.read_excel(\"Project 6-Segmenting customers into clusters-Dataset.xlsx\")"
   ]
  },
  {
   "cell_type": "code",
   "execution_count": 3,
   "metadata": {},
   "outputs": [
    {
     "data": {
      "text/html": [
       "<div>\n",
       "<style scoped>\n",
       "    .dataframe tbody tr th:only-of-type {\n",
       "        vertical-align: middle;\n",
       "    }\n",
       "\n",
       "    .dataframe tbody tr th {\n",
       "        vertical-align: top;\n",
       "    }\n",
       "\n",
       "    .dataframe thead th {\n",
       "        text-align: right;\n",
       "    }\n",
       "</style>\n",
       "<table border=\"1\" class=\"dataframe\">\n",
       "  <thead>\n",
       "    <tr style=\"text-align: right;\">\n",
       "      <th></th>\n",
       "      <th>InvoiceNo</th>\n",
       "      <th>StockCode</th>\n",
       "      <th>Description</th>\n",
       "      <th>Quantity</th>\n",
       "      <th>InvoiceDate</th>\n",
       "      <th>UnitPrice</th>\n",
       "      <th>CustomerID</th>\n",
       "      <th>Country</th>\n",
       "    </tr>\n",
       "  </thead>\n",
       "  <tbody>\n",
       "    <tr>\n",
       "      <th>0</th>\n",
       "      <td>536365</td>\n",
       "      <td>85123A</td>\n",
       "      <td>WHITE HANGING HEART T-LIGHT HOLDER</td>\n",
       "      <td>6</td>\n",
       "      <td>2010-12-01 08:26:00</td>\n",
       "      <td>2.55</td>\n",
       "      <td>17850.0</td>\n",
       "      <td>United Kingdom</td>\n",
       "    </tr>\n",
       "    <tr>\n",
       "      <th>1</th>\n",
       "      <td>536365</td>\n",
       "      <td>71053</td>\n",
       "      <td>WHITE METAL LANTERN</td>\n",
       "      <td>6</td>\n",
       "      <td>2010-12-01 08:26:00</td>\n",
       "      <td>3.39</td>\n",
       "      <td>17850.0</td>\n",
       "      <td>United Kingdom</td>\n",
       "    </tr>\n",
       "    <tr>\n",
       "      <th>2</th>\n",
       "      <td>536365</td>\n",
       "      <td>84406B</td>\n",
       "      <td>CREAM CUPID HEARTS COAT HANGER</td>\n",
       "      <td>8</td>\n",
       "      <td>2010-12-01 08:26:00</td>\n",
       "      <td>2.75</td>\n",
       "      <td>17850.0</td>\n",
       "      <td>United Kingdom</td>\n",
       "    </tr>\n",
       "    <tr>\n",
       "      <th>3</th>\n",
       "      <td>536365</td>\n",
       "      <td>84029G</td>\n",
       "      <td>KNITTED UNION FLAG HOT WATER BOTTLE</td>\n",
       "      <td>6</td>\n",
       "      <td>2010-12-01 08:26:00</td>\n",
       "      <td>3.39</td>\n",
       "      <td>17850.0</td>\n",
       "      <td>United Kingdom</td>\n",
       "    </tr>\n",
       "    <tr>\n",
       "      <th>4</th>\n",
       "      <td>536365</td>\n",
       "      <td>84029E</td>\n",
       "      <td>RED WOOLLY HOTTIE WHITE HEART.</td>\n",
       "      <td>6</td>\n",
       "      <td>2010-12-01 08:26:00</td>\n",
       "      <td>3.39</td>\n",
       "      <td>17850.0</td>\n",
       "      <td>United Kingdom</td>\n",
       "    </tr>\n",
       "  </tbody>\n",
       "</table>\n",
       "</div>"
      ],
      "text/plain": [
       "  InvoiceNo StockCode                          Description  Quantity  \\\n",
       "0    536365    85123A   WHITE HANGING HEART T-LIGHT HOLDER         6   \n",
       "1    536365     71053                  WHITE METAL LANTERN         6   \n",
       "2    536365    84406B       CREAM CUPID HEARTS COAT HANGER         8   \n",
       "3    536365    84029G  KNITTED UNION FLAG HOT WATER BOTTLE         6   \n",
       "4    536365    84029E       RED WOOLLY HOTTIE WHITE HEART.         6   \n",
       "\n",
       "          InvoiceDate  UnitPrice  CustomerID         Country  \n",
       "0 2010-12-01 08:26:00       2.55     17850.0  United Kingdom  \n",
       "1 2010-12-01 08:26:00       3.39     17850.0  United Kingdom  \n",
       "2 2010-12-01 08:26:00       2.75     17850.0  United Kingdom  \n",
       "3 2010-12-01 08:26:00       3.39     17850.0  United Kingdom  \n",
       "4 2010-12-01 08:26:00       3.39     17850.0  United Kingdom  "
      ]
     },
     "execution_count": 3,
     "metadata": {},
     "output_type": "execute_result"
    }
   ],
   "source": [
    "data.head()"
   ]
  },
  {
   "cell_type": "code",
   "execution_count": 4,
   "metadata": {},
   "outputs": [
    {
     "data": {
      "text/plain": [
       "(541909, 8)"
      ]
     },
     "execution_count": 4,
     "metadata": {},
     "output_type": "execute_result"
    }
   ],
   "source": [
    "data.shape"
   ]
  },
  {
   "cell_type": "code",
   "execution_count": 5,
   "metadata": {
    "scrolled": true
   },
   "outputs": [
    {
     "data": {
      "text/plain": [
       "InvoiceNo              object\n",
       "StockCode              object\n",
       "Description            object\n",
       "Quantity                int64\n",
       "InvoiceDate    datetime64[ns]\n",
       "UnitPrice             float64\n",
       "CustomerID            float64\n",
       "Country                object\n",
       "dtype: object"
      ]
     },
     "execution_count": 5,
     "metadata": {},
     "output_type": "execute_result"
    }
   ],
   "source": [
    "#Checking the datatypes\n",
    "data.dtypes"
   ]
  },
  {
   "cell_type": "code",
   "execution_count": 6,
   "metadata": {},
   "outputs": [
    {
     "data": {
      "text/plain": [
       "InvoiceNo       0.000000\n",
       "StockCode       0.000000\n",
       "Description     0.268311\n",
       "Quantity        0.000000\n",
       "InvoiceDate     0.000000\n",
       "UnitPrice       0.000000\n",
       "CustomerID     24.926694\n",
       "Country         0.000000\n",
       "dtype: float64"
      ]
     },
     "execution_count": 6,
     "metadata": {},
     "output_type": "execute_result"
    }
   ],
   "source": [
    "#Checking the null values\n",
    "data.isnull().sum()/len(data)*100"
   ]
  },
  {
   "cell_type": "code",
   "execution_count": 7,
   "metadata": {},
   "outputs": [],
   "source": [
    "#Dropping the null values of Customer id column\n",
    "data=data.dropna(subset=['CustomerID'])"
   ]
  },
  {
   "cell_type": "code",
   "execution_count": 8,
   "metadata": {
    "scrolled": true
   },
   "outputs": [
    {
     "data": {
      "text/plain": [
       "InvoiceNo      0.0\n",
       "StockCode      0.0\n",
       "Description    0.0\n",
       "Quantity       0.0\n",
       "InvoiceDate    0.0\n",
       "UnitPrice      0.0\n",
       "CustomerID     0.0\n",
       "Country        0.0\n",
       "dtype: float64"
      ]
     },
     "execution_count": 8,
     "metadata": {},
     "output_type": "execute_result"
    }
   ],
   "source": [
    "# percentage of missing values in each variable\n",
    "data.isnull().sum()/len(data)*100"
   ]
  },
  {
   "cell_type": "code",
   "execution_count": 9,
   "metadata": {},
   "outputs": [],
   "source": [
    "#Changing the varible to string\n",
    "data['InvoiceNo']=data['InvoiceNo'].astype(str)\n",
    "data['StockCode']=data['StockCode'].astype(str)"
   ]
  },
  {
   "cell_type": "code",
   "execution_count": 10,
   "metadata": {},
   "outputs": [],
   "source": [
    "#Extracting hour,month and weekday from invoiceDate column\n",
    "data['InvoiceDate_month']=data['InvoiceDate'].dt.month\n",
    "data['InvoiceDate_weekday']=data['InvoiceDate'].dt.weekday\n",
    "data['InvoiceDate_hour']=data['InvoiceDate'].dt.hour"
   ]
  },
  {
   "cell_type": "markdown",
   "metadata": {},
   "source": [
    "### Since the invoice no is containing cancelled order also so we will check the amount of cancelled orders if it is significant or not."
   ]
  },
  {
   "cell_type": "code",
   "execution_count": 11,
   "metadata": {},
   "outputs": [],
   "source": [
    "#Constructing groupby dataframe\n",
    "temp=data.groupby(by=['CustomerID','InvoiceNo'],as_index=False)['InvoiceDate'].count()\n",
    "no_of_products_per_group=temp.rename(columns={'InvoiceDate':'No of products'})"
   ]
  },
  {
   "cell_type": "code",
   "execution_count": 16,
   "metadata": {},
   "outputs": [
    {
     "data": {
      "text/plain": [
       "16.466876971608833"
      ]
     },
     "execution_count": 16,
     "metadata": {},
     "output_type": "execute_result"
    }
   ],
   "source": [
    "# Finding the cancelled orders and imputing 1 if it is cancelled otherwise 0.\n",
    "no_of_products_per_group['order_cancelled'] = no_of_products_per_group['InvoiceNo'].apply(lambda x:int('C' in x))\n",
    "\n",
    "# Percent cancelled orders.\n",
    "len(no_of_products_per_group[no_of_products_per_group['order_cancelled']==1])/len(no_of_products_per_group)*100"
   ]
  },
  {
   "cell_type": "code",
   "execution_count": null,
   "metadata": {},
   "outputs": [],
   "source": [
    "no_of_products_per_group"
   ]
  },
  {
   "cell_type": "code",
   "execution_count": 17,
   "metadata": {},
   "outputs": [
    {
     "data": {
      "text/plain": [
       "16.466876971608833"
      ]
     },
     "execution_count": 17,
     "metadata": {},
     "output_type": "execute_result"
    }
   ],
   "source": [
    "#Calculating the percentage of cancelling order\n",
    "len(no_of_products_per_group[no_of_products_per_group['order_cancelled']==1])/len(no_of_products_per_group)*100"
   ]
  },
  {
   "cell_type": "markdown",
   "metadata": {},
   "source": [
    "**16%** of the orders are cancelled which is significant in number."
   ]
  },
  {
   "cell_type": "markdown",
   "metadata": {},
   "source": [
    "Let's take the cancelled orders in account to the main datframe. "
   ]
  },
  {
   "cell_type": "code",
   "execution_count": 18,
   "metadata": {},
   "outputs": [],
   "source": [
    "# Applying lambda function over the whole dataset\n",
    "data['order_cancelled'] = data['InvoiceNo'].apply(lambda x:int('C' in x))"
   ]
  },
  {
   "cell_type": "code",
   "execution_count": 19,
   "metadata": {},
   "outputs": [],
   "source": [
    "#Let's drop the invoice date column\n",
    "data=data.drop(['InvoiceDate'],axis=1)"
   ]
  },
  {
   "cell_type": "code",
   "execution_count": 20,
   "metadata": {},
   "outputs": [
    {
     "data": {
      "text/plain": [
       "InvoiceNo               object\n",
       "StockCode               object\n",
       "Description             object\n",
       "Quantity                 int64\n",
       "UnitPrice              float64\n",
       "CustomerID             float64\n",
       "Country                 object\n",
       "InvoiceDate_month        int64\n",
       "InvoiceDate_weekday      int64\n",
       "InvoiceDate_hour         int64\n",
       "order_cancelled          int64\n",
       "dtype: object"
      ]
     },
     "execution_count": 20,
     "metadata": {},
     "output_type": "execute_result"
    }
   ],
   "source": [
    "data.dtypes"
   ]
  },
  {
   "cell_type": "markdown",
   "metadata": {},
   "source": [
    "## Label encoding of string variables"
   ]
  },
  {
   "cell_type": "code",
   "execution_count": 21,
   "metadata": {},
   "outputs": [],
   "source": [
    "#Importing label encoder for converting categorical to numerical variable\n",
    "from sklearn.preprocessing import LabelEncoder"
   ]
  },
  {
   "cell_type": "code",
   "execution_count": 23,
   "metadata": {},
   "outputs": [],
   "source": [
    "# Transforming each feature\n",
    "le = LabelEncoder()\n",
    "label_InvoiceNo = le.fit_transform(data['InvoiceNo'])\n",
    "label_StockCode = le.fit_transform(data['StockCode'])\n",
    "label_Description = le.fit_transform(data['Description'])\n",
    "label_Country = le.fit_transform(data['Country'])"
   ]
  },
  {
   "cell_type": "code",
   "execution_count": 24,
   "metadata": {},
   "outputs": [],
   "source": [
    "# Storing the generated label in their respective columns\n",
    "data['InvoiceNo'] = label_InvoiceNo\n",
    "data['StockCode'] = label_StockCode\n",
    "data['Description'] = label_Description\n",
    "data['Country'] = label_Country"
   ]
  },
  {
   "cell_type": "markdown",
   "metadata": {},
   "source": [
    "### Scaling the data"
   ]
  },
  {
   "cell_type": "code",
   "execution_count": 25,
   "metadata": {},
   "outputs": [],
   "source": [
    "# Importing Standard Scaler and fitting the scaled data\n",
    "from sklearn.preprocessing import StandardScaler\n",
    "\n",
    "scaler = StandardScaler()\n",
    "\n",
    "data_scaled = scaler.fit_transform(data)"
   ]
  },
  {
   "cell_type": "code",
   "execution_count": 26,
   "metadata": {},
   "outputs": [
    {
     "data": {
      "text/html": [
       "<div>\n",
       "<style scoped>\n",
       "    .dataframe tbody tr th:only-of-type {\n",
       "        vertical-align: middle;\n",
       "    }\n",
       "\n",
       "    .dataframe tbody tr th {\n",
       "        vertical-align: top;\n",
       "    }\n",
       "\n",
       "    .dataframe thead th {\n",
       "        text-align: right;\n",
       "    }\n",
       "</style>\n",
       "<table border=\"1\" class=\"dataframe\">\n",
       "  <thead>\n",
       "    <tr style=\"text-align: right;\">\n",
       "      <th></th>\n",
       "      <th>0</th>\n",
       "      <th>1</th>\n",
       "      <th>2</th>\n",
       "      <th>3</th>\n",
       "      <th>4</th>\n",
       "      <th>5</th>\n",
       "      <th>6</th>\n",
       "      <th>7</th>\n",
       "      <th>8</th>\n",
       "      <th>9</th>\n",
       "      <th>10</th>\n",
       "    </tr>\n",
       "  </thead>\n",
       "  <tbody>\n",
       "    <tr>\n",
       "      <th>count</th>\n",
       "      <td>4.068290e+05</td>\n",
       "      <td>4.068290e+05</td>\n",
       "      <td>4.068290e+05</td>\n",
       "      <td>4.068290e+05</td>\n",
       "      <td>4.068290e+05</td>\n",
       "      <td>4.068290e+05</td>\n",
       "      <td>4.068290e+05</td>\n",
       "      <td>4.068290e+05</td>\n",
       "      <td>4.068290e+05</td>\n",
       "      <td>4.068290e+05</td>\n",
       "      <td>4.068290e+05</td>\n",
       "    </tr>\n",
       "    <tr>\n",
       "      <th>mean</th>\n",
       "      <td>-2.733182e-13</td>\n",
       "      <td>-1.943826e-15</td>\n",
       "      <td>-7.891660e-16</td>\n",
       "      <td>2.075071e-15</td>\n",
       "      <td>-3.085516e-16</td>\n",
       "      <td>-9.686600e-16</td>\n",
       "      <td>-4.533509e-15</td>\n",
       "      <td>4.928740e-13</td>\n",
       "      <td>-5.571582e-15</td>\n",
       "      <td>-5.450337e-14</td>\n",
       "      <td>-3.685395e-14</td>\n",
       "    </tr>\n",
       "    <tr>\n",
       "      <th>std</th>\n",
       "      <td>1.000001e+00</td>\n",
       "      <td>1.000001e+00</td>\n",
       "      <td>1.000001e+00</td>\n",
       "      <td>1.000001e+00</td>\n",
       "      <td>1.000001e+00</td>\n",
       "      <td>1.000001e+00</td>\n",
       "      <td>1.000001e+00</td>\n",
       "      <td>1.000001e+00</td>\n",
       "      <td>1.000001e+00</td>\n",
       "      <td>1.000001e+00</td>\n",
       "      <td>1.000001e+00</td>\n",
       "    </tr>\n",
       "    <tr>\n",
       "      <th>min</th>\n",
       "      <td>-1.792216e+00</td>\n",
       "      <td>-1.863931e+00</td>\n",
       "      <td>-1.858922e+00</td>\n",
       "      <td>-3.257311e+02</td>\n",
       "      <td>-4.992379e-02</td>\n",
       "      <td>-1.716675e+00</td>\n",
       "      <td>-4.871627e+00</td>\n",
       "      <td>-1.932163e+00</td>\n",
       "      <td>-1.356156e+00</td>\n",
       "      <td>-2.948631e+00</td>\n",
       "      <td>-1.495949e-01</td>\n",
       "    </tr>\n",
       "    <tr>\n",
       "      <th>25%</th>\n",
       "      <td>-8.808803e-01</td>\n",
       "      <td>-7.538118e-01</td>\n",
       "      <td>-8.095044e-01</td>\n",
       "      <td>-4.045671e-02</td>\n",
       "      <td>-3.189019e-02</td>\n",
       "      <td>-7.788819e-01</td>\n",
       "      <td>3.223641e-01</td>\n",
       "      <td>-7.622096e-01</td>\n",
       "      <td>-8.358387e-01</td>\n",
       "      <td>-7.603986e-01</td>\n",
       "      <td>-1.495949e-01</td>\n",
       "    </tr>\n",
       "    <tr>\n",
       "      <th>50%</th>\n",
       "      <td>6.467571e-02</td>\n",
       "      <td>-6.072778e-02</td>\n",
       "      <td>-3.460664e-02</td>\n",
       "      <td>-2.839365e-02</td>\n",
       "      <td>-2.179138e-02</td>\n",
       "      <td>-7.918459e-02</td>\n",
       "      <td>3.223641e-01</td>\n",
       "      <td>1.152558e-01</td>\n",
       "      <td>-3.155215e-01</td>\n",
       "      <td>1.148945e-01</td>\n",
       "      <td>-1.495949e-01</td>\n",
       "    </tr>\n",
       "    <tr>\n",
       "      <th>75%</th>\n",
       "      <td>8.465154e-01</td>\n",
       "      <td>6.311714e-01</td>\n",
       "      <td>8.449574e-01</td>\n",
       "      <td>-2.465022e-04</td>\n",
       "      <td>4.176999e-03</td>\n",
       "      <td>8.772823e-01</td>\n",
       "      <td>3.223641e-01</td>\n",
       "      <td>9.927212e-01</td>\n",
       "      <td>7.251129e-01</td>\n",
       "      <td>5.525410e-01</td>\n",
       "      <td>-1.495949e-01</td>\n",
       "    </tr>\n",
       "    <tr>\n",
       "      <th>max</th>\n",
       "      <td>2.204154e+00</td>\n",
       "      <td>2.499536e+00</td>\n",
       "      <td>1.717176e+00</td>\n",
       "      <td>3.256341e+02</td>\n",
       "      <td>5.621654e+02</td>\n",
       "      <td>1.750299e+00</td>\n",
       "      <td>4.707639e-01</td>\n",
       "      <td>1.285210e+00</td>\n",
       "      <td>1.765747e+00</td>\n",
       "      <td>3.178420e+00</td>\n",
       "      <td>6.684718e+00</td>\n",
       "    </tr>\n",
       "  </tbody>\n",
       "</table>\n",
       "</div>"
      ],
      "text/plain": [
       "                 0             1             2             3             4   \\\n",
       "count  4.068290e+05  4.068290e+05  4.068290e+05  4.068290e+05  4.068290e+05   \n",
       "mean  -2.733182e-13 -1.943826e-15 -7.891660e-16  2.075071e-15 -3.085516e-16   \n",
       "std    1.000001e+00  1.000001e+00  1.000001e+00  1.000001e+00  1.000001e+00   \n",
       "min   -1.792216e+00 -1.863931e+00 -1.858922e+00 -3.257311e+02 -4.992379e-02   \n",
       "25%   -8.808803e-01 -7.538118e-01 -8.095044e-01 -4.045671e-02 -3.189019e-02   \n",
       "50%    6.467571e-02 -6.072778e-02 -3.460664e-02 -2.839365e-02 -2.179138e-02   \n",
       "75%    8.465154e-01  6.311714e-01  8.449574e-01 -2.465022e-04  4.176999e-03   \n",
       "max    2.204154e+00  2.499536e+00  1.717176e+00  3.256341e+02  5.621654e+02   \n",
       "\n",
       "                 5             6             7             8             9   \\\n",
       "count  4.068290e+05  4.068290e+05  4.068290e+05  4.068290e+05  4.068290e+05   \n",
       "mean  -9.686600e-16 -4.533509e-15  4.928740e-13 -5.571582e-15 -5.450337e-14   \n",
       "std    1.000001e+00  1.000001e+00  1.000001e+00  1.000001e+00  1.000001e+00   \n",
       "min   -1.716675e+00 -4.871627e+00 -1.932163e+00 -1.356156e+00 -2.948631e+00   \n",
       "25%   -7.788819e-01  3.223641e-01 -7.622096e-01 -8.358387e-01 -7.603986e-01   \n",
       "50%   -7.918459e-02  3.223641e-01  1.152558e-01 -3.155215e-01  1.148945e-01   \n",
       "75%    8.772823e-01  3.223641e-01  9.927212e-01  7.251129e-01  5.525410e-01   \n",
       "max    1.750299e+00  4.707639e-01  1.285210e+00  1.765747e+00  3.178420e+00   \n",
       "\n",
       "                 10  \n",
       "count  4.068290e+05  \n",
       "mean  -3.685395e-14  \n",
       "std    1.000001e+00  \n",
       "min   -1.495949e-01  \n",
       "25%   -1.495949e-01  \n",
       "50%   -1.495949e-01  \n",
       "75%   -1.495949e-01  \n",
       "max    6.684718e+00  "
      ]
     },
     "execution_count": 26,
     "metadata": {},
     "output_type": "execute_result"
    }
   ],
   "source": [
    "#Transforming the scaled data into dataframe\n",
    "pd.DataFrame(data_scaled).describe()"
   ]
  },
  {
   "cell_type": "markdown",
   "metadata": {},
   "source": [
    "### K means clustering"
   ]
  },
  {
   "cell_type": "code",
   "execution_count": 28,
   "metadata": {},
   "outputs": [],
   "source": [
    "#Appending the result of inertia in a blank list  names SSE, after fitting the scaled data into kmeans for each number \n",
    "# of clusters\n",
    "SSE_scaled=[]\n",
    "for cluster in range(1,15):\n",
    "    kmeans=KMeans(n_jobs=-1,n_clusters=cluster)\n",
    "    kmeans.fit(data_scaled)\n",
    "    SSE_scaled.append(kmeans.inertia_)"
   ]
  },
  {
   "cell_type": "code",
   "execution_count": 29,
   "metadata": {},
   "outputs": [],
   "source": [
    "#creating a DataFrame\n",
    "frame_scaled=pd.DataFrame({'Cluster':range(1,15),'SSE':SSE_scaled})"
   ]
  },
  {
   "cell_type": "code",
   "execution_count": 30,
   "metadata": {},
   "outputs": [
    {
     "data": {
      "text/html": [
       "<div>\n",
       "<style scoped>\n",
       "    .dataframe tbody tr th:only-of-type {\n",
       "        vertical-align: middle;\n",
       "    }\n",
       "\n",
       "    .dataframe tbody tr th {\n",
       "        vertical-align: top;\n",
       "    }\n",
       "\n",
       "    .dataframe thead th {\n",
       "        text-align: right;\n",
       "    }\n",
       "</style>\n",
       "<table border=\"1\" class=\"dataframe\">\n",
       "  <thead>\n",
       "    <tr style=\"text-align: right;\">\n",
       "      <th></th>\n",
       "      <th>Cluster</th>\n",
       "      <th>SSE</th>\n",
       "    </tr>\n",
       "  </thead>\n",
       "  <tbody>\n",
       "    <tr>\n",
       "      <th>0</th>\n",
       "      <td>1</td>\n",
       "      <td>4.475119e+06</td>\n",
       "    </tr>\n",
       "    <tr>\n",
       "      <th>1</th>\n",
       "      <td>2</td>\n",
       "      <td>3.965139e+06</td>\n",
       "    </tr>\n",
       "    <tr>\n",
       "      <th>2</th>\n",
       "      <td>3</td>\n",
       "      <td>3.549758e+06</td>\n",
       "    </tr>\n",
       "    <tr>\n",
       "      <th>3</th>\n",
       "      <td>4</td>\n",
       "      <td>3.159020e+06</td>\n",
       "    </tr>\n",
       "    <tr>\n",
       "      <th>4</th>\n",
       "      <td>5</td>\n",
       "      <td>2.981496e+06</td>\n",
       "    </tr>\n",
       "    <tr>\n",
       "      <th>5</th>\n",
       "      <td>6</td>\n",
       "      <td>2.672319e+06</td>\n",
       "    </tr>\n",
       "    <tr>\n",
       "      <th>6</th>\n",
       "      <td>7</td>\n",
       "      <td>2.504380e+06</td>\n",
       "    </tr>\n",
       "    <tr>\n",
       "      <th>7</th>\n",
       "      <td>8</td>\n",
       "      <td>2.338402e+06</td>\n",
       "    </tr>\n",
       "    <tr>\n",
       "      <th>8</th>\n",
       "      <td>9</td>\n",
       "      <td>2.159915e+06</td>\n",
       "    </tr>\n",
       "    <tr>\n",
       "      <th>9</th>\n",
       "      <td>10</td>\n",
       "      <td>2.045762e+06</td>\n",
       "    </tr>\n",
       "    <tr>\n",
       "      <th>10</th>\n",
       "      <td>11</td>\n",
       "      <td>1.954591e+06</td>\n",
       "    </tr>\n",
       "    <tr>\n",
       "      <th>11</th>\n",
       "      <td>12</td>\n",
       "      <td>1.886950e+06</td>\n",
       "    </tr>\n",
       "    <tr>\n",
       "      <th>12</th>\n",
       "      <td>13</td>\n",
       "      <td>1.799280e+06</td>\n",
       "    </tr>\n",
       "    <tr>\n",
       "      <th>13</th>\n",
       "      <td>14</td>\n",
       "      <td>1.755336e+06</td>\n",
       "    </tr>\n",
       "  </tbody>\n",
       "</table>\n",
       "</div>"
      ],
      "text/plain": [
       "    Cluster           SSE\n",
       "0         1  4.475119e+06\n",
       "1         2  3.965139e+06\n",
       "2         3  3.549758e+06\n",
       "3         4  3.159020e+06\n",
       "4         5  2.981496e+06\n",
       "5         6  2.672319e+06\n",
       "6         7  2.504380e+06\n",
       "7         8  2.338402e+06\n",
       "8         9  2.159915e+06\n",
       "9        10  2.045762e+06\n",
       "10       11  1.954591e+06\n",
       "11       12  1.886950e+06\n",
       "12       13  1.799280e+06\n",
       "13       14  1.755336e+06"
      ]
     },
     "execution_count": 30,
     "metadata": {},
     "output_type": "execute_result"
    }
   ],
   "source": [
    "frame_scaled"
   ]
  },
  {
   "cell_type": "markdown",
   "metadata": {},
   "source": [
    "### Elbow curve for clusters"
   ]
  },
  {
   "cell_type": "code",
   "execution_count": 31,
   "metadata": {},
   "outputs": [
    {
     "data": {
      "image/png": "[encoded data removed]",
      "text/plain": [
       "<Figure size 864x432 with 1 Axes>"
      ]
     },
     "metadata": {
      "needs_background": "light"
     },
     "output_type": "display_data"
    }
   ],
   "source": [
    "#Plotting the elbow curve\n",
    "plt.figure(figsize=(12,6))\n",
    "plt.plot(frame_scaled['Cluster'],frame_scaled['SSE'],marker='o')\n",
    "plt.xlabel('Clusters')\n",
    "plt.ylabel('SSE')\n",
    "plt.show()"
   ]
  },
  {
   "cell_type": "markdown",
   "metadata": {},
   "source": [
    "*From the above graph we observe that the optimum value of number of cluster is 5.* "
   ]
  },
  {
   "cell_type": "code",
   "execution_count": 33,
   "metadata": {},
   "outputs": [],
   "source": [
    "#Fitting the data and predicting the clusters\n",
    "kmeans=KMeans(n_jobs=-1,n_clusters=5)\n",
    "kmeans.fit(data_scaled)\n",
    "pred=kmeans.predict(data_scaled)"
   ]
  },
  {
   "cell_type": "code",
   "execution_count": 34,
   "metadata": {},
   "outputs": [
    {
     "data": {
      "text/plain": [
       "array([1, 1, 1, ..., 0, 0, 0])"
      ]
     },
     "execution_count": 34,
     "metadata": {},
     "output_type": "execute_result"
    }
   ],
   "source": [
    "#Predicted clusters\n",
    "pred"
   ]
  },
  {
   "cell_type": "code",
   "execution_count": 35,
   "metadata": {},
   "outputs": [],
   "source": [
    "#Creaing dataframe of scaled data\n",
    "frame=pd.DataFrame(data_scaled)"
   ]
  },
  {
   "cell_type": "code",
   "execution_count": 37,
   "metadata": {},
   "outputs": [],
   "source": [
    "#creating a cilumn name cluster and putting the predicted values of cluster\n",
    "frame['cluster']=pred"
   ]
  },
  {
   "cell_type": "code",
   "execution_count": 39,
   "metadata": {},
   "outputs": [
    {
     "data": {
      "text/plain": [
       "1    223475\n",
       "3    139429\n",
       "0     35020\n",
       "4      8904\n",
       "2         1\n",
       "Name: cluster, dtype: int64"
      ]
     },
     "execution_count": 39,
     "metadata": {},
     "output_type": "execute_result"
    }
   ],
   "source": [
    "#No of data points allocated to each cluster\n",
    "frame['cluster'].value_counts()"
   ]
  },
  {
   "cell_type": "code",
   "execution_count": 40,
   "metadata": {},
   "outputs": [
    {
     "data": {
      "text/html": [
       "<div>\n",
       "<style scoped>\n",
       "    .dataframe tbody tr th:only-of-type {\n",
       "        vertical-align: middle;\n",
       "    }\n",
       "\n",
       "    .dataframe tbody tr th {\n",
       "        vertical-align: top;\n",
       "    }\n",
       "\n",
       "    .dataframe thead th {\n",
       "        text-align: right;\n",
       "    }\n",
       "</style>\n",
       "<table border=\"1\" class=\"dataframe\">\n",
       "  <thead>\n",
       "    <tr style=\"text-align: right;\">\n",
       "      <th></th>\n",
       "      <th>0</th>\n",
       "      <th>1</th>\n",
       "      <th>2</th>\n",
       "      <th>3</th>\n",
       "      <th>4</th>\n",
       "      <th>5</th>\n",
       "      <th>6</th>\n",
       "      <th>7</th>\n",
       "      <th>8</th>\n",
       "      <th>9</th>\n",
       "      <th>10</th>\n",
       "      <th>cluster</th>\n",
       "    </tr>\n",
       "  </thead>\n",
       "  <tbody>\n",
       "    <tr>\n",
       "      <th>0</th>\n",
       "      <td>-1.792216</td>\n",
       "      <td>1.985351</td>\n",
       "      <td>1.552832</td>\n",
       "      <td>-0.024373</td>\n",
       "      <td>-0.013135</td>\n",
       "      <td>1.49528</td>\n",
       "      <td>0.322364</td>\n",
       "      <td>1.28521</td>\n",
       "      <td>-0.315521</td>\n",
       "      <td>-2.073338</td>\n",
       "      <td>-0.149595</td>\n",
       "      <td>1</td>\n",
       "    </tr>\n",
       "    <tr>\n",
       "      <th>1</th>\n",
       "      <td>-1.792216</td>\n",
       "      <td>1.274496</td>\n",
       "      <td>1.560177</td>\n",
       "      <td>-0.024373</td>\n",
       "      <td>-0.001017</td>\n",
       "      <td>1.49528</td>\n",
       "      <td>0.322364</td>\n",
       "      <td>1.28521</td>\n",
       "      <td>-0.315521</td>\n",
       "      <td>-2.073338</td>\n",
       "      <td>-0.149595</td>\n",
       "      <td>1</td>\n",
       "    </tr>\n",
       "    <tr>\n",
       "      <th>2</th>\n",
       "      <td>-1.792216</td>\n",
       "      <td>1.518556</td>\n",
       "      <td>-1.068416</td>\n",
       "      <td>-0.016331</td>\n",
       "      <td>-0.010250</td>\n",
       "      <td>1.49528</td>\n",
       "      <td>0.322364</td>\n",
       "      <td>1.28521</td>\n",
       "      <td>-0.315521</td>\n",
       "      <td>-2.073338</td>\n",
       "      <td>-0.149595</td>\n",
       "      <td>1</td>\n",
       "    </tr>\n",
       "    <tr>\n",
       "      <th>3</th>\n",
       "      <td>-1.792216</td>\n",
       "      <td>1.456948</td>\n",
       "      <td>-0.194360</td>\n",
       "      <td>-0.024373</td>\n",
       "      <td>-0.001017</td>\n",
       "      <td>1.49528</td>\n",
       "      <td>0.322364</td>\n",
       "      <td>1.28521</td>\n",
       "      <td>-0.315521</td>\n",
       "      <td>-2.073338</td>\n",
       "      <td>-0.149595</td>\n",
       "      <td>1</td>\n",
       "    </tr>\n",
       "    <tr>\n",
       "      <th>4</th>\n",
       "      <td>-1.792216</td>\n",
       "      <td>1.455764</td>\n",
       "      <td>0.689794</td>\n",
       "      <td>-0.024373</td>\n",
       "      <td>-0.001017</td>\n",
       "      <td>1.49528</td>\n",
       "      <td>0.322364</td>\n",
       "      <td>1.28521</td>\n",
       "      <td>-0.315521</td>\n",
       "      <td>-2.073338</td>\n",
       "      <td>-0.149595</td>\n",
       "      <td>1</td>\n",
       "    </tr>\n",
       "  </tbody>\n",
       "</table>\n",
       "</div>"
      ],
      "text/plain": [
       "          0         1         2         3         4        5         6  \\\n",
       "0 -1.792216  1.985351  1.552832 -0.024373 -0.013135  1.49528  0.322364   \n",
       "1 -1.792216  1.274496  1.560177 -0.024373 -0.001017  1.49528  0.322364   \n",
       "2 -1.792216  1.518556 -1.068416 -0.016331 -0.010250  1.49528  0.322364   \n",
       "3 -1.792216  1.456948 -0.194360 -0.024373 -0.001017  1.49528  0.322364   \n",
       "4 -1.792216  1.455764  0.689794 -0.024373 -0.001017  1.49528  0.322364   \n",
       "\n",
       "         7         8         9        10  cluster  \n",
       "0  1.28521 -0.315521 -2.073338 -0.149595        1  \n",
       "1  1.28521 -0.315521 -2.073338 -0.149595        1  \n",
       "2  1.28521 -0.315521 -2.073338 -0.149595        1  \n",
       "3  1.28521 -0.315521 -2.073338 -0.149595        1  \n",
       "4  1.28521 -0.315521 -2.073338 -0.149595        1  "
      ]
     },
     "execution_count": 40,
     "metadata": {},
     "output_type": "execute_result"
    }
   ],
   "source": [
    "#Checking the dataframe with clusters\n",
    "frame.head()"
   ]
  },
  {
   "cell_type": "markdown",
   "metadata": {},
   "source": [
    "**After we predicted the clusters for each of the data elements, above dataframe shows that out of the 5 clusters, which data item will belong to which cluster.**"
   ]
  },
  {
   "cell_type": "code",
   "execution_count": null,
   "metadata": {},
   "outputs": [],
   "source": []
  }
 ],
 "metadata": {
  "kernelspec": {
   "display_name": "Python 3",
   "language": "python",
   "name": "python3"
  },
  "language_info": {
   "codemirror_mode": {
    "name": "ipython",
    "version": 3
   },
   "file_extension": ".py",
   "mimetype": "text/x-python",
   "name": "python",
   "nbconvert_exporter": "python",
   "pygments_lexer": "ipython3",
   "version": "3.8.3"
  }
 },
 "nbformat": 4,
 "nbformat_minor": 4
}
