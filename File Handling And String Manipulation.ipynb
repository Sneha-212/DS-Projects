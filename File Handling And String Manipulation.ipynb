{
 "cells": [
  {
   "cell_type": "markdown",
   "metadata": {},
   "source": [
    "### Project Problem Statement"
   ]
  },
  {
   "cell_type": "markdown",
   "metadata": {},
   "source": [
    "**A script of Game of Thrones was taken from the page and stored in the file conv.txt in the dataset provided. Your task is to read the file and do  the following.**"
   ]
  },
  {
   "cell_type": "markdown",
   "metadata": {},
   "source": [
    "* Q1. Find out the number of unique characters in the sample conversation? "
   ]
  },
  {
   "cell_type": "code",
   "execution_count": 1,
   "metadata": {},
   "outputs": [],
   "source": [
    "characters=[]\n",
    "with open(\"datasets2/conv.txt\") as fo:\n",
    "    my_file=fo.readlines()\n",
    "for i in my_file:\n",
    "    a=i.split(\":\")[0]\n",
    "    if i==\"\\n\":\n",
    "        pass\n",
    "    else:\n",
    "        characters.append(a)\n",
    "    "
   ]
  },
  {
   "cell_type": "code",
   "execution_count": 2,
   "metadata": {},
   "outputs": [
    {
     "data": {
      "text/plain": [
       "17"
      ]
     },
     "execution_count": 2,
     "metadata": {},
     "output_type": "execute_result"
    }
   ],
   "source": [
    "len(set(characters))"
   ]
  },
  {
   "cell_type": "markdown",
   "metadata": {},
   "source": [
    "**There are 17 unique characters in this sample conversation.**"
   ]
  },
  {
   "cell_type": "markdown",
   "metadata": {},
   "source": [
    "* Q2. Create a new text file for each of the characters with their name and store the unique words said by them in their respective file.Store one word in one line. "
   ]
  },
  {
   "cell_type": "code",
   "execution_count": 3,
   "metadata": {},
   "outputs": [],
   "source": [
    "unique_char=set(characters)"
   ]
  },
  {
   "cell_type": "code",
   "execution_count": 4,
   "metadata": {},
   "outputs": [
    {
     "data": {
      "text/plain": [
       "{'ARYA',\n",
       " 'BRAN',\n",
       " 'CASSEL',\n",
       " 'CATELYN',\n",
       " 'CERSEI',\n",
       " 'GARED',\n",
       " 'JAIME',\n",
       " 'JON',\n",
       " 'NED',\n",
       " 'ROBB',\n",
       " 'ROBERT',\n",
       " 'ROYCE',\n",
       " 'SANSA',\n",
       " 'SEPTA MORDANE',\n",
       " 'THEON',\n",
       " 'WAYMAR ROYCE',\n",
       " 'WILL'}"
      ]
     },
     "execution_count": 4,
     "metadata": {},
     "output_type": "execute_result"
    }
   ],
   "source": [
    "unique_char"
   ]
  },
  {
   "cell_type": "code",
   "execution_count": 5,
   "metadata": {},
   "outputs": [],
   "source": [
    "complete_text=[]\n",
    "for i in my_file:\n",
    "    if i==\"\\n\":\n",
    "        pass\n",
    "    else:\n",
    "        complete_text.append(i.split(\":\")) \n",
    "    "
   ]
  },
  {
   "cell_type": "code",
   "execution_count": 6,
   "metadata": {},
   "outputs": [
    {
     "data": {
      "text/plain": [
       "[['WILL',\n",
       "  ' Iâ€™ve never seen wildlings do a thing like this. Iâ€™ve never seen a thing like this, not ever in my life.\\n'],\n",
       " ['WAYMAR ROYCE', ' How close did you get?\\n'],\n",
       " ['WILL', ' Close as any man would.\\n'],\n",
       " ['GARED', ' We should head back to the wall.\\n'],\n",
       " ['ROYCE', ' Do the dead frighten you?\\n'],\n",
       " ['GARED',\n",
       "  ' Our orders were to track the wildlings. We tracked them. They wonâ€™t trouble us no more.\\n'],\n",
       " ['ROYCE',\n",
       "  ' You donâ€™t think heâ€™ll ask us how they died? Get back on your horse.\\n'],\n",
       " ['WILL',\n",
       "  ' Whatever did it to them could do it to us. They even killed the children.\\n'],\n",
       " ['ROYCE',\n",
       "  ' Itâ€™s a good thing weâ€™re not children. You want to run away south, run away. Of course, they will behead you as a deserter â€¦ If I donâ€™t catch you first. Get back on your horse. I wonâ€™t say it again.\\n'],\n",
       " ['ROYCE', ' Your dead men seem to have moved camp.\\n'],\n",
       " ['WILL', ' They were here.\\n'],\n",
       " ['GARED', ' See where they went.\\n'],\n",
       " ['ROYCE', ' What is it?\\n'],\n",
       " ['JON', ' Go on. Fatherâ€™s watching.\\n'],\n",
       " ['JON', ' And your mother.\\n'],\n",
       " ['SEPTA MORDANE', ' Fine work, as always. Well done.\\n'],\n",
       " ['SANSA', ' Thank you.\\n'],\n",
       " ['SEPTA MORDANE',\n",
       "  ' I love the detail that youâ€™ve managed to get in this corners.\\n'],\n",
       " ['NED',\n",
       "  ' And which one of you was a marksman at ten? Keep practicing, Bran. Go on.\\n'],\n",
       " ['JON', ' Donâ€™t think too much, Bran.\\n'],\n",
       " ['ROBB', ' Relax your bow arm.\\n'],\n",
       " ['CASSEL',\n",
       "  ' Lord Stark. My lady. A guardsman just rode in from the hills. Theyâ€™ve captured a deserter from the Nightâ€™s Watch.\\n'],\n",
       " ['NED', ' Get the lads to saddle their horses.\\n'],\n",
       " ['CATELYN', ' Do you have to?\\n'],\n",
       " ['NED', ' He swore an oath, Cat.\\n'],\n",
       " ['CASSEL', ' The law is law, my lady.\\n'],\n",
       " ['NED', ' Tell Bran heâ€™s coming, too.\\n'],\n",
       " ['CATELYN', ' Ned. Ten is too young to see such things.\\n'],\n",
       " ['NED', ' He wonâ€™t be a boy forever. And winter is coming.\\n'],\n",
       " ['ROBB', ' Lad, go run back and get the rest.\\n'],\n",
       " ['NED', ' King of the Andals and the First Men â€¦\\n'],\n",
       " ['JON', ' Father will know if you do.\\n'],\n",
       " ['NED',\n",
       "  ' Lord of the Seven Kingdoms and protector of the realm, I, Eddard of the House Stark, Lord of Winterfell and Warden of the North, sentence you to die.\\n'],\n",
       " ['JON', ' You did well.\\n'],\n",
       " ['NED', ' You understand why I did it?\\n'],\n",
       " ['BRAN', ' Jon said he was a deserter.\\n'],\n",
       " ['NED', ' But do you understand why I had to kill him?\\n'],\n",
       " ['BRAN', ' Our way is the old way?\\n'],\n",
       " ['NED', ' The man who passes the sentence should swing the sword.\\n'],\n",
       " ['BRAN', ' Is it true he saw the White Walkers?\\n'],\n",
       " ['NED', ' The White Walkers have been gone for thousands of years.\\n'],\n",
       " ['BRAN', ' So he was lying?\\n'],\n",
       " ['NED', ' A madman sees what he sees.\\n'],\n",
       " ['JON', ' What is it?\\n'],\n",
       " ['THEON', ' Mountain lion?\\n'],\n",
       " ['NED', ' There are no mountain lions in these woods.\\n'],\n",
       " ['THEON', ' Itâ€™s a freak.\\n'],\n",
       " ['NED', ' Itâ€™s a direwolf.\\n'],\n",
       " ['NED', ' Tough old beast.\\n'],\n",
       " ['ROBB', ' There are no direwolves south of the Wall.\\n'],\n",
       " ['JON', ' Now there are five.\\n'],\n",
       " ['JON', ' You want to hold it?\\n'],\n",
       " ['BRAN', ' Where will they go? Their motherâ€™s dead.\\n'],\n",
       " ['CASSEL', ' They donâ€™t belong down here.\\n'],\n",
       " ['NED', ' Better a quick death. They wonâ€™t last without their mother.\\n'],\n",
       " ['THEON', ' Right. Give it here.\\n'],\n",
       " ['BRAN', ' NO!\\n'],\n",
       " ['ROBB', ' Put away your blade.\\n'],\n",
       " ['THEON', ' I take orders from your father, not you.\\n'],\n",
       " ['BRAN', ' Please, father!\\n'],\n",
       " ['NED', ' Iâ€™m sorry, Bran.\\n'],\n",
       " ['JON',\n",
       "  ' Lord Stark? There are five pups. One for each of the Stark children. The direwolf is the sigil of your House. They were meant to have them.\\n'],\n",
       " ['NED',\n",
       "  ' You will train them yourselves. You will feed them yourselves. And if they die, you will bury them yourselves.\\n'],\n",
       " ['BRAN', ' What about you?\\n'],\n",
       " ['JON', ' Iâ€™m not a Stark. Get on.\\n'],\n",
       " ['ROBB', ' What is it?\\n'],\n",
       " ['CERSEI', ' What if Jon Arryn told someone?\\n'],\n",
       " ['JAIME', ' But who would he tell?\\n'],\n",
       " ['CERSEI', ' My husband.\\n'],\n",
       " ['JAIME',\n",
       "  ' If he told the king, both our heads would be skewered on the city gates by now. Whatever Jon Arryn knew or didnâ€™t know, it died with him. And Robert will choose a new Hand of the king, someone to do his job while heâ€™s off fucking boars and hunting whores. Or is it the other way around? And life will go on.\\n'],\n",
       " ['CERSEI', ' You should be the Hand of the king.\\n'],\n",
       " ['JAIME',\n",
       "  ' Thatâ€™s an honor I can do without. Their days are too long, their lives are too short.\\n'],\n",
       " ['CATELYN',\n",
       "  ' All these years and I still feel like an outsider when I come here.\\n'],\n",
       " ['NED', ' You have five northern children. Youâ€™re not an outsider.\\n'],\n",
       " ['CATELYN', ' I wonder if the old gods agree.\\n'],\n",
       " ['NED', ' Itâ€™s your gods with all the rules.\\n'],\n",
       " ['CATELYN', ' I am so sorry, my love.\\n'],\n",
       " ['NED', ' Tell me.\\n'],\n",
       " ['ROBB', ' I hear the prince is a right royal prick.\\n'],\n",
       " ['THEON',\n",
       "  ' Think of all those southern girls he gets to stab with his right royal prick.\\n'],\n",
       " ['ROBB',\n",
       "  ' Go on, Tommy, shave him good. Heâ€™s never met a girl he likes better than his own hair.\\n'],\n",
       " ['CATELYN', ' Gods, but they grow fast.\\n'],\n",
       " ['BRAN', ' I saw the king! Heâ€™s got hundreds of people!\\n'],\n",
       " ['CATELYN', ' How many times have I told you No climbing!\\n'],\n",
       " ['BRAN', ' But heâ€™s coming right now! Down our road!\\n'],\n",
       " ['CATELYN', ' I want you to promise me. No more climbing.\\n'],\n",
       " ['NED', ' Your Grace.\\n'],\n",
       " ['ROBERT', ' Youâ€™ve got fat.\\n'],\n",
       " ['ROBERT', ' Cat!\\n'],\n",
       " ['CATELYN', ' Your Grace.\\n'],\n",
       " ['ROBERT',\n",
       "  ' Nine years. Why havenâ€™t I seen you? Where the hell have you been?\\n'],\n",
       " ['NED', ' Guarding the North for you, Your Grace. Winterfell is yours.\\n'],\n",
       " ['ARYA', ' Whereâ€™s the Imp?\\n'],\n",
       " ['SANSA', ' Will you shut up?\\n'],\n",
       " ['ROBERT', ' Who have we here? You must be Robb.\\n'],\n",
       " ['ARYA', ' Arya.\\n'],\n",
       " ['ROBERT', ' Ooh. Show us your muscles. Youâ€™ll be a soldier.\\n'],\n",
       " ['ARYA', ' Thatâ€™s Jaime Lannister. The queenâ€™s twin brother.\\n'],\n",
       " ['SANSA', ' Would you please shut up.\\n'],\n",
       " ['NED', ' My queen.\\n'],\n",
       " ['CATELYN', ' My queen.\\n'],\n",
       " ['ROBERT', ' Take me to your crypt. I want to pay my respects.\\n'],\n",
       " ['CERSEI',\n",
       "  ' Weâ€™ve been riding for a month, my love. Surely the dead can wait.\\n'],\n",
       " ['ROBERT', ' Ned.\\n'],\n",
       " ['ARYA', ' Whereâ€™s the Imp?\\n'],\n",
       " ['CERSEI', ' Where is our brother? Go find the little beast.\\n'],\n",
       " ['NED', ' Tell me about Jon Arryn.\\n'],\n",
       " ['ROBERT',\n",
       "  ' One minute he was fine, and then â€¦ Burned right through him, whatever it was. I loved that man.\\n'],\n",
       " ['NED', ' We both did.\\n'],\n",
       " ['ROBERT',\n",
       "  ' He never had to teach you much, but me â€¦ You remember me at 16? All I wanted to do was crack skulls and fuck girls. He showed me what was what.\\n'],\n",
       " ['NED', ' Aye.\\n']]"
      ]
     },
     "execution_count": 6,
     "metadata": {},
     "output_type": "execute_result"
    }
   ],
   "source": [
    "complete_text"
   ]
  },
  {
   "cell_type": "code",
   "execution_count": 10,
   "metadata": {},
   "outputs": [],
   "source": [
    "for i in unique_char:\n",
    "    unique_dialogue=[]\n",
    "    for j in range(len(complete_text)):\n",
    "        if i==complete_text[j][0]:\n",
    "            dialogue=complete_text[j][1].split(\" \")\n",
    "            for k in dialogue:\n",
    "                unique_dialogue.append(k)\n",
    "                \n",
    "    all_words=list(set(unique_dialogue))\n",
    "    text_file=open(i+\".txt\",\"w+\")\n",
    "    for l in all_words:\n",
    "        text_file.write(l+\"\\n\")\n",
    "                "
   ]
  },
  {
   "cell_type": "code",
   "execution_count": null,
   "metadata": {},
   "outputs": [],
   "source": []
  }
 ],
 "metadata": {
  "kernelspec": {
   "display_name": "Python 3",
   "language": "python",
   "name": "python3"
  },
  "language_info": {
   "codemirror_mode": {
    "name": "ipython",
    "version": 3
   },
   "file_extension": ".py",
   "mimetype": "text/x-python",
   "name": "python",
   "nbconvert_exporter": "python",
   "pygments_lexer": "ipython3",
   "version": "3.8.3"
  }
 },
 "nbformat": 4,
 "nbformat_minor": 4
}
